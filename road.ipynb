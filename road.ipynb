{
 "cells": [
  {
   "cell_type": "markdown",
   "id": "775cfc48-583f-437a-adde-0ff5878e7016",
   "metadata": {},
   "source": [
    "# Тетраткава треба да ја искористите откако ќе имате снимено множество со слики!!!"
   ]
  },
  {
   "cell_type": "markdown",
   "id": "0beb4d35-b985-4f3e-9578-ccb134584656",
   "metadata": {},
   "source": [
    "## Внесување на скриптата script.py"
   ]
  },
  {
   "cell_type": "markdown",
   "id": "954800cf-3ed6-49e6-87d0-84af25b0f626",
   "metadata": {},
   "source": [
    "### Проверете мануелно дали имињата во фолдерот на кој сакате да извршите трансформации во тетраткава е со имиња од формат xy_{x}_{y}_генериран_стринг.jpg\n",
    "**Доколку се истите, фолдерот е спремен за внес во невронска мрежа, не го пуштајте повторно фолдерот низ оваа тетратка!!!!**"
   ]
  },
  {
   "cell_type": "code",
   "execution_count": 5,
   "id": "c0e26d7e-3c6c-47d8-9db1-abc335e734b2",
   "metadata": {},
   "outputs": [
    {
     "ename": "ModuleNotFoundError",
     "evalue": "No module named 'ipycanvas'",
     "output_type": "error",
     "traceback": [
      "\u001b[1;31m---------------------------------------------------------------------------\u001b[0m",
      "\u001b[1;31mModuleNotFoundError\u001b[0m                       Traceback (most recent call last)",
      "Cell \u001b[1;32mIn[5], line 1\u001b[0m\n\u001b[1;32m----> 1\u001b[0m \u001b[38;5;28;01mimport\u001b[39;00m \u001b[38;5;21;01mscript\u001b[39;00m \u001b[38;5;28;01mas\u001b[39;00m \u001b[38;5;21;01mrt\u001b[39;00m\n\u001b[0;32m      2\u001b[0m \u001b[38;5;28;01mimport\u001b[39;00m \u001b[38;5;21;01mos\u001b[39;00m\n",
      "File \u001b[1;32m~\\Desktop\\notebooks\\robomac\\script.py:3\u001b[0m\n\u001b[0;32m      1\u001b[0m \u001b[38;5;28;01mimport\u001b[39;00m \u001b[38;5;21;01mglob\u001b[39;00m\n\u001b[0;32m      2\u001b[0m \u001b[38;5;28;01mimport\u001b[39;00m \u001b[38;5;21;01mipywidgets\u001b[39;00m \u001b[38;5;28;01mas\u001b[39;00m \u001b[38;5;21;01mipw\u001b[39;00m\n\u001b[1;32m----> 3\u001b[0m \u001b[38;5;28;01mimport\u001b[39;00m \u001b[38;5;21;01mipycanvas\u001b[39;00m \u001b[38;5;28;01mas\u001b[39;00m \u001b[38;5;21;01mipc\u001b[39;00m\n\u001b[0;32m      4\u001b[0m \u001b[38;5;28;01mfrom\u001b[39;00m \u001b[38;5;21;01mIPython\u001b[39;00m\u001b[38;5;21;01m.\u001b[39;00m\u001b[38;5;21;01mdisplay\u001b[39;00m \u001b[38;5;28;01mimport\u001b[39;00m display\n\u001b[0;32m      5\u001b[0m \u001b[38;5;28;01mimport\u001b[39;00m \u001b[38;5;21;01mos\u001b[39;00m\n",
      "\u001b[1;31mModuleNotFoundError\u001b[0m: No module named 'ipycanvas'"
     ]
    }
   ],
   "source": [
    "import script as rt\n",
    "import os"
   ]
  },
  {
   "cell_type": "code",
   "execution_count": 3,
   "id": "150332c0-3f5f-4003-8245-3d082c95556f",
   "metadata": {},
   "outputs": [
    {
     "name": "stdout",
     "output_type": "stream",
     "text": [
      " Volume in drive C is Windows\n",
      " Volume Serial Number is 18AE-7B7A\n",
      "\n",
      " Directory of C:\\Users\\Drej\\Desktop\\notebooks\\robomac\\milenium\n",
      "\n",
      "12.05.2023  00:21    <DIR>          .\n",
      "12.05.2023  00:21    <DIR>          ..\n",
      "12.05.2023  00:20    <DIR>          02_11\n",
      "12.05.2023  00:20    <DIR>          02_41\n",
      "               0 File(s)              0 bytes\n",
      "               4 Dir(s)  151.656.472.576 bytes free\n"
     ]
    }
   ],
   "source": [
    "ls"
   ]
  },
  {
   "cell_type": "code",
   "execution_count": 19,
   "id": "21b34707-922c-4b5e-8452-b5e333cd4122",
   "metadata": {},
   "outputs": [],
   "source": [
    "#!unzip 12_05.zip"
   ]
  },
  {
   "cell_type": "markdown",
   "id": "134482e8-1b76-4ba3-96d0-55ecb250f670",
   "metadata": {},
   "source": [
    "## Анотирање на сите слики една по една.\n",
    "* Дојдете со поинтерот од вашето електронско глувче во делот каде се наоѓа сликата.\n",
    "* `Се извинуваме за трепкањето на сликата`! Тоа не е никаков проблем за сликата, туку само за вашите очи. (се случува бидејќи константно ја вчитува истата слика на секое најмало поместување на поинтерот се додека да кликнете со поинтерот.)\n",
    "* На местотот каде вие ќе оцените дека е најдобро го опишува патот притиснете со левиот клик на глувчето.\n",
    "* **Нема назад!!!!**, доколку сметате дека сте погрешиле некоја слика ќе треба пак одново. `Бидете внимателни.`\n",
    "* Finish ќе значи дека сте ги изминале сите слики."
   ]
  },
  {
   "cell_type": "code",
   "execution_count": 4,
   "id": "1f0bb4f9-e824-4823-948f-5f2f5b7c864b",
   "metadata": {},
   "outputs": [
    {
     "ename": "NameError",
     "evalue": "name 'rt' is not defined",
     "output_type": "error",
     "traceback": [
      "\u001b[1;31m---------------------------------------------------------------------------\u001b[0m",
      "\u001b[1;31mNameError\u001b[0m                                 Traceback (most recent call last)",
      "Cell \u001b[1;32mIn[4], line 1\u001b[0m\n\u001b[1;32m----> 1\u001b[0m \u001b[43mrt\u001b[49m\u001b[38;5;241m.\u001b[39mPathGuider(\u001b[38;5;124m'\u001b[39m\u001b[38;5;124m02-11/*\u001b[39m\u001b[38;5;124m'\u001b[39m, \u001b[38;5;124m'\u001b[39m\u001b[38;5;124mdata_jetbot.csv\u001b[39m\u001b[38;5;124m'\u001b[39m)\n",
      "\u001b[1;31mNameError\u001b[0m: name 'rt' is not defined"
     ]
    }
   ],
   "source": [
    "rt.PathGuider('02-11/*', 'data_jetbot.csv')  ### Внимание : Провери дали фолдерот е тој што сакаш да го анотираш?!\n",
    "### Притоа ако фолдерот не е твојот посакуван фолдер за анотирање, смени го неговото име во 'dataset_name/*'' каде dataset_name e името на твојот фолдер кој би требало /\n",
    "#### да се наоѓа во истиот фолдер со script.py и road.ipynb. Доколку е во некој потфолдер влезниот облик треба да е : 'path_to_dataset/dataset_name/*''"
   ]
  },
  {
   "cell_type": "markdown",
   "id": "e78922e2-6b5c-4752-b29e-b1ef2635ce7f",
   "metadata": {},
   "source": [
    "## За да ги промените имињата и во фолдерот со слики\n",
    "* Бидејќи оригиналните имиња ги имаат само генерираните имиња, треба x, y координатите да ги зачуваме во името пред генераторот.\n",
    "* Ова ни е битно бидејќи сакаме да си ја олесниме работата за при внес на сликите во невронска мрежа, да ги отпакуваме тогаш x, y координатите и така да ги имаме за регресискиот модел."
   ]
  },
  {
   "cell_type": "markdown",
   "id": "58e8f974-cf55-430d-b152-2a6956461a62",
   "metadata": {},
   "source": [
    "#### Важно : Вториот аргумент од претходната ќелија треба да е ист со првиот од наредната ќелија, а dataset_xy од претходната ќелија мора да е ист со вториот аргумент од наредната ќелија!!!\n",
    "\n",
    "* Ова не мора да е имплементирано на ваков начин, може да креирате прво фолдер каде ќе ги копирате сите слики од {dataset_xy} (вака е кај Милан, не мора да значи дека и вас ќе ви се вика вака). Чувај си локални копии од сите фолдери локално на `лаптоп`"
   ]
  },
  {
   "cell_type": "code",
   "execution_count": 37,
   "id": "34f29280-8fca-4ef4-b4d4-fbec2e3516b4",
   "metadata": {},
   "outputs": [
    {
     "name": "stdout",
     "output_type": "stream",
     "text": [
      "/home/drejsamurai/Desktop/robomac/jetbot/notebooks/robomac/new_datasets\n"
     ]
    }
   ],
   "source": [
    "cd new_datasets"
   ]
  },
  {
   "cell_type": "code",
   "execution_count": 38,
   "id": "1dcd815c-9870-4114-902b-0ba68aeef3f6",
   "metadata": {},
   "outputs": [],
   "source": [
    "!zip -r -q dataset_new.zip dataset_new"
   ]
  },
  {
   "cell_type": "markdown",
   "id": "28aca837-5614-4d0f-a41a-501263dc83c6",
   "metadata": {},
   "source": [
    "* `Сега симни си го dataset_xy.zip` со десен клик и Download.\n",
    "* Доколку фајлот не може визуелно да се лоцира бидејќи се симнал на друго место, а од левата страна ти е отворена друга локација со фолдери, само одкоментирај и изврши ја долната команда која ќе ти каже каде се наоѓаш. Тогаш оди на таа локација и симни го .zip фајлот."
   ]
  },
  {
   "cell_type": "code",
   "execution_count": 9,
   "id": "0d083981-faab-4db6-bfdc-bb26f660b542",
   "metadata": {},
   "outputs": [],
   "source": [
    "# pwd"
   ]
  },
  {
   "cell_type": "code",
   "execution_count": 21,
   "id": "888af663-2734-4d23-9825-1c0e78115489",
   "metadata": {},
   "outputs": [],
   "source": [
    "rt.renameImages('data_jetbot.csv', '12_05')"
   ]
  },
  {
   "cell_type": "markdown",
   "id": "1202eee0-3bb0-4cb2-8b52-b39a125f7094",
   "metadata": {
    "tags": []
   },
   "source": [
    "### По твоја желба доколку сакаш сега можеш да го избришеш CSV фајлот. Прво увери се дека сликите во фолдерот се со соодветни имиња од типот посочен погоре.\n",
    "## Доколку не си сигурен, не го бриши фајлот, инаку ќе анотираш повторно.\n",
    "\n",
    "* Изврши ја следната ќелија за да ти успее магијата."
   ]
  },
  {
   "cell_type": "code",
   "execution_count": 22,
   "id": "a9bd4e9b-c8c4-4a18-b8e0-1061973ba063",
   "metadata": {},
   "outputs": [],
   "source": [
    "os.remove('data_jetbot.csv')"
   ]
  },
  {
   "cell_type": "code",
   "execution_count": 32,
   "id": "41d53b94-36c8-40ee-b9c3-2b9e075e0c80",
   "metadata": {},
   "outputs": [
    {
     "name": "stdout",
     "output_type": "stream",
     "text": [
      "data_collection.ipynb  first_test.pth  \u001b[0m\u001b[01;34m__pycache__\u001b[0m/  secound_test.pth\n",
      "\u001b[01;34mdataset_xy\u001b[0m/            \u001b[01;34mnew_datasets\u001b[0m/   road.ipynb    train_model.ipynb\n",
      "\u001b[01;31mdataset_xy.zip\u001b[0m         proba1.pth      script.py     Untitled.ipynb\n"
     ]
    }
   ],
   "source": [
    "ls"
   ]
  },
  {
   "cell_type": "code",
   "execution_count": 34,
   "id": "b587cc96-a1c4-41ca-9013-940f45a3de67",
   "metadata": {},
   "outputs": [
    {
     "ename": "NameError",
     "evalue": "name 'new_datasets' is not defined",
     "output_type": "error",
     "traceback": [
      "\u001b[0;31m---------------------------------------------------------------------------\u001b[0m",
      "\u001b[0;31mNameError\u001b[0m                                 Traceback (most recent call last)",
      "Cell \u001b[0;32mIn[34], line 1\u001b[0m\n\u001b[0;32m----> 1\u001b[0m \u001b[38;5;28mlen\u001b[39m(\u001b[43mnew_datasets\u001b[49m)\n",
      "\u001b[0;31mNameError\u001b[0m: name 'new_datasets' is not defined"
     ]
    }
   ],
   "source": [
    "len(new_datasets)"
   ]
  },
  {
   "cell_type": "code",
   "execution_count": null,
   "id": "f394b87b-b609-4c04-9107-edd79ee225b7",
   "metadata": {},
   "outputs": [],
   "source": []
  }
 ],
 "metadata": {
  "kernelspec": {
   "display_name": "Python 3 (ipykernel)",
   "language": "python",
   "name": "python3"
  },
  "language_info": {
   "codemirror_mode": {
    "name": "ipython",
    "version": 3
   },
   "file_extension": ".py",
   "mimetype": "text/x-python",
   "name": "python",
   "nbconvert_exporter": "python",
   "pygments_lexer": "ipython3",
   "version": "3.10.9"
  }
 },
 "nbformat": 4,
 "nbformat_minor": 5
}
